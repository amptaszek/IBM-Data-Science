{
  "metadata": {
    "kernelspec": {
      "name": "python",
      "display_name": "Python (Pyodide)",
      "language": "python"
    },
    "language_info": {
      "codemirror_mode": {
        "name": "python",
        "version": 3
      },
      "file_extension": ".py",
      "mimetype": "text/x-python",
      "name": "python",
      "nbconvert_exporter": "python",
      "pygments_lexer": "ipython3",
      "version": "3.8"
    }
  },
  "nbformat_minor": 5,
  "nbformat": 4,
  "cells": [
    {
      "id": "71633858-0702-43a1-ab54-b59c4d78910f",
      "cell_type": "markdown",
      "source": "# Data Science Tools and Ecosystem",
      "metadata": {}
    },
    {
      "id": "07e26269-ae2b-4742-87de-d8ccd41b6e11",
      "cell_type": "markdown",
      "source": "In this notebook, Data Science Tools and Ecosystem are summarized.",
      "metadata": {}
    },
    {
      "id": "97a244b2-b60f-4b0f-beb2-33cb56ef48e7",
      "cell_type": "markdown",
      "source": "**Objectives:**\n* Listing popular languages for Data Science\n* Listing common libraries in Data Science\n* Creating ordered and unordered lists\n* Creating and formatting of tables",
      "metadata": {}
    },
    {
      "id": "23a9f075-fd3a-4364-a2b1-d0d30ed49e8c",
      "cell_type": "markdown",
      "source": "Some of the popular languages that Data Scientists use are:\n1. Python\n2. R\n3. SQL \n4. Java\n5. Julia\n6. MATLAB",
      "metadata": {}
    },
    {
      "id": "008b868b-a2cc-4885-ac3e-e1338a20b572",
      "cell_type": "markdown",
      "source": "Some of the commonly used libraries used by Data Scientists include:\n1. Pandas\n2. Tensorflow\n3. NumPy",
      "metadata": {}
    },
    {
      "id": "d7685eaa-b7d9-499f-89a8-09a94986520c",
      "cell_type": "markdown",
      "source": "|Data Science Tools|\n|:----------------:|\n| Jupyter Notebook |\n|     RStudio      |\n|      Hadoop      |",
      "metadata": {}
    },
    {
      "id": "d5dc397c-68b0-42cc-b36e-cfbd2fa5b97e",
      "cell_type": "markdown",
      "source": "### Below are a few examples of evaluating artihmetic expressions in Python.",
      "metadata": {}
    },
    {
      "id": "934b7705-4eb0-4d6a-af15-2990c035022b",
      "cell_type": "code",
      "source": "#This is a simple arithmetic expression to multiply then add integers\n(3*4)+5",
      "metadata": {
        "trusted": true
      },
      "outputs": [
        {
          "execution_count": 1,
          "output_type": "execute_result",
          "data": {
            "text/plain": "17"
          },
          "metadata": {}
        }
      ],
      "execution_count": 1
    },
    {
      "id": "bd3fadcd-f0ab-41b1-9616-ff7302309402",
      "cell_type": "code",
      "source": "#This will convert 200 minutes to hours by dividing by 60\n200//60",
      "metadata": {
        "trusted": true
      },
      "outputs": [
        {
          "execution_count": 2,
          "output_type": "execute_result",
          "data": {
            "text/plain": "3"
          },
          "metadata": {}
        }
      ],
      "execution_count": 2
    },
    {
      "id": "336b7ff4-71b0-4227-b17c-f81e86539fdc",
      "cell_type": "markdown",
      "source": "## Author\nAnthony Ptaszek",
      "metadata": {}
    },
    {
      "id": "6dbf04ec-4eb1-4968-929e-39b18b70b03d",
      "cell_type": "code",
      "source": "",
      "metadata": {
        "trusted": true
      },
      "outputs": [],
      "execution_count": null
    }
  ]
}